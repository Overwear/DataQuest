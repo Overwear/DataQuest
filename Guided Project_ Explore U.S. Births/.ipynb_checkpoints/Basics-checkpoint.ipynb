{
 "cells": [
  {
   "cell_type": "code",
   "execution_count": 19,
   "metadata": {
    "collapsed": false
   },
   "outputs": [
    {
     "name": "stdout",
     "output_type": "stream",
     "text": [
      "['year,month,date_of_month,day_of_week,births', '1994,1,1,6,8096', '1994,1,2,7,7772', '1994,1,3,1,10142', '1994,1,4,2,11248', '1994,1,5,3,11053', '1994,1,6,4,11406', '1994,1,7,5,11251', '1994,1,8,6,8653', '1994,1,9,7,7910']\n"
     ]
    }
   ],
   "source": [
    "f = open(\"US_births_1994-2003_CDC_NCHS.csv\")\n",
    "data = f.read()\n",
    "data_split = data.split(\"\\n\")\n",
    "print(data_split[0:10])"
   ]
  },
  {
   "cell_type": "code",
   "execution_count": 20,
   "metadata": {
    "collapsed": true
   },
   "outputs": [],
   "source": [
    "def read_csv(in_csv):\n",
    "    final_list = []\n",
    "    f = open(in_csv)\n",
    "    data = f.read()\n",
    "    data_split = data.split(\"\\n\")\n",
    "    string_list = data_split[1:len(data_split)]\n",
    "    \n",
    "    for item in string_list:\n",
    "        int_fields = []\n",
    "        string_fields = item.split(\",\")\n",
    "        for val in string_fields:\n",
    "            int_fields.append(int(val))\n",
    "        final_list.append(int_fields)\n",
    "    return final_list\n",
    "    "
   ]
  },
  {
   "cell_type": "code",
   "execution_count": 21,
   "metadata": {
    "collapsed": false
   },
   "outputs": [
    {
     "data": {
      "text/plain": [
       "[[1994, 1, 1, 6, 8096],\n",
       " [1994, 1, 2, 7, 7772],\n",
       " [1994, 1, 3, 1, 10142],\n",
       " [1994, 1, 4, 2, 11248],\n",
       " [1994, 1, 5, 3, 11053],\n",
       " [1994, 1, 6, 4, 11406],\n",
       " [1994, 1, 7, 5, 11251],\n",
       " [1994, 1, 8, 6, 8653],\n",
       " [1994, 1, 9, 7, 7910],\n",
       " [1994, 1, 10, 1, 10498]]"
      ]
     },
     "execution_count": 21,
     "metadata": {},
     "output_type": "execute_result"
    }
   ],
   "source": [
    "cdc_list = read_csv(\"US_births_1994-2003_CDC_NCHS.csv\")\n",
    "cdc_list[0:10]"
   ]
  },
  {
   "cell_type": "code",
   "execution_count": 22,
   "metadata": {
    "collapsed": false
   },
   "outputs": [],
   "source": [
    "def month_births(my_list):\n",
    "    births_per_month = {}\n",
    "    MONTH_INDEX = 1\n",
    "    BIRTH_INDEX = 4\n",
    "    for val in my_list:\n",
    "        if val[MONTH_INDEX] in births_per_month:\n",
    "            births_per_month[val[MONTH_INDEX]] = val[MONTH_INDEX] + val[BIRTH_INDEX]\n",
    "        else:\n",
    "            births_per_month[val[MONTH_INDEX]] = val[BIRTH_INDEX]\n",
    "    return births_per_month\n",
    "        "
   ]
  },
  {
   "cell_type": "code",
   "execution_count": 23,
   "metadata": {
    "collapsed": false
   },
   "outputs": [
    {
     "data": {
      "text/plain": [
       "{1: 11775,\n",
       " 2: 12331,\n",
       " 3: 11334,\n",
       " 4: 12068,\n",
       " 5: 8747,\n",
       " 6: 12078,\n",
       " 7: 13244,\n",
       " 8: 7751,\n",
       " 9: 13131,\n",
       " 10: 10777,\n",
       " 11: 7216,\n",
       " 12: 12386}"
      ]
     },
     "execution_count": 23,
     "metadata": {},
     "output_type": "execute_result"
    }
   ],
   "source": [
    "cdc_month_births = month_births(cdc_list)\n",
    "cdc_month_births"
   ]
  },
  {
   "cell_type": "code",
   "execution_count": 25,
   "metadata": {
    "collapsed": false
   },
   "outputs": [],
   "source": [
    "def dow_births(list_of_lists):\n",
    "    days_and_births_dict = {}\n",
    "    DAY_OF_WEEK_INDEX = 3\n",
    "    BIRTH_INDEX = 4\n",
    "    for val in list_of_lists:\n",
    "        if val[DAY_OF_WEEK_INDEX] in days_and_births_dict:\n",
    "            days_and_births_dict[val[DAY_OF_WEEK_INDEX]] = days_and_births_dict[val[DAY_OF_WEEK_INDEX]] + val[BIRTH_INDEX]\n",
    "        else:\n",
    "            days_and_births_dict[val[DAY_OF_WEEK_INDEX]] = val[BIRTH_INDEX]\n",
    "    return days_and_births_dict\n"
   ]
  },
  {
   "cell_type": "code",
   "execution_count": 26,
   "metadata": {
    "collapsed": false
   },
   "outputs": [
    {
     "data": {
      "text/plain": [
       "{1: 5789166,\n",
       " 2: 6446196,\n",
       " 3: 6322855,\n",
       " 4: 6288429,\n",
       " 5: 6233657,\n",
       " 6: 4562111,\n",
       " 7: 4079723}"
      ]
     },
     "execution_count": 26,
     "metadata": {},
     "output_type": "execute_result"
    }
   ],
   "source": [
    "cdc_day_births = dow_births(cdc_list)\n",
    "cdc_day_births"
   ]
  },
  {
   "cell_type": "code",
   "execution_count": 27,
   "metadata": {
    "collapsed": true
   },
   "outputs": [],
   "source": [
    "def calc_counts(data, column):\n",
    "    my_dict = {}\n",
    "    BIRTH_INDEX = 4\n",
    "    for val in data:\n",
    "        if val[column] in my_dict:\n",
    "            my_dict[val[column]] = my_dict[val[column]] + val[BIRTH_INDEX]\n",
    "        else:\n",
    "            my_dict[val[column]] = val[BIRTH_INDEX]\n",
    "    return my_dict"
   ]
  },
  {
   "cell_type": "code",
   "execution_count": 29,
   "metadata": {
    "collapsed": false
   },
   "outputs": [],
   "source": [
    "YEARLY_TOTAL_INDEX = 0\n",
    "MONTHLY_TOTAL_INDEX = 1\n",
    "DAY_OF_MONTH_TOTAL_INDEX = 2\n",
    "DAY_OF_WEEK_TOTAL_INDEX = 3\n",
    "cdc_year_births = calc_counts(cdc_list, YEARLY_TOTAL_INDEX)\n",
    "cdc_month_births = calc_counts(cdc_list, MONTHLY_TOTAL_INDEX)\n",
    "cdc_dom_births = calc_counts(cdc_list, DAY_OF_MONTH_TOTAL_INDEX)\n",
    "cdc_dow_births = calc_counts(cdc_list, DAY_OF_WEEK_TOTAL_INDEX)\n"
   ]
  },
  {
   "cell_type": "code",
   "execution_count": 34,
   "metadata": {
    "collapsed": false
   },
   "outputs": [
    {
     "data": {
      "text/plain": [
       "{1: 3232517,\n",
       " 2: 3018140,\n",
       " 3: 3322069,\n",
       " 4: 3185314,\n",
       " 5: 3350907,\n",
       " 6: 3296530,\n",
       " 7: 3498783,\n",
       " 8: 3525858,\n",
       " 9: 3439698,\n",
       " 10: 3378814,\n",
       " 11: 3171647,\n",
       " 12: 3301860}"
      ]
     },
     "execution_count": 34,
     "metadata": {},
     "output_type": "execute_result"
    }
   ],
   "source": [
    "cdc_year_births"
   ]
  },
  {
   "cell_type": "code",
   "execution_count": 35,
   "metadata": {
    "collapsed": false
   },
   "outputs": [
    {
     "data": {
      "text/plain": [
       "{1994: 3952767,\n",
       " 1995: 3899589,\n",
       " 1996: 3891494,\n",
       " 1997: 3880894,\n",
       " 1998: 3941553,\n",
       " 1999: 3959417,\n",
       " 2000: 4058814,\n",
       " 2001: 4025933,\n",
       " 2002: 4021726,\n",
       " 2003: 4089950}"
      ]
     },
     "execution_count": 35,
     "metadata": {},
     "output_type": "execute_result"
    }
   ],
   "source": [
    "cdc_month_births"
   ]
  },
  {
   "cell_type": "code",
   "execution_count": 36,
   "metadata": {
    "collapsed": false
   },
   "outputs": [
    {
     "data": {
      "text/plain": [
       "{1: 1276557,\n",
       " 2: 1288739,\n",
       " 3: 1304499,\n",
       " 4: 1288154,\n",
       " 5: 1299953,\n",
       " 6: 1304474,\n",
       " 7: 1310459,\n",
       " 8: 1312297,\n",
       " 9: 1303292,\n",
       " 10: 1320764,\n",
       " 11: 1314361,\n",
       " 12: 1318437,\n",
       " 13: 1277684,\n",
       " 14: 1320153,\n",
       " 15: 1319171,\n",
       " 16: 1315192,\n",
       " 17: 1324953,\n",
       " 18: 1326855,\n",
       " 19: 1318727,\n",
       " 20: 1324821,\n",
       " 21: 1322897,\n",
       " 22: 1317381,\n",
       " 23: 1293290,\n",
       " 24: 1288083,\n",
       " 25: 1272116,\n",
       " 26: 1284796,\n",
       " 27: 1294395,\n",
       " 28: 1307685,\n",
       " 29: 1223161,\n",
       " 30: 1202095,\n",
       " 31: 746696}"
      ]
     },
     "execution_count": 36,
     "metadata": {},
     "output_type": "execute_result"
    }
   ],
   "source": [
    "cdc_dom_births"
   ]
  },
  {
   "cell_type": "code",
   "execution_count": 47,
   "metadata": {
    "collapsed": false
   },
   "outputs": [
    {
     "data": {
      "text/plain": [
       "{1: 5789166,\n",
       " 2: 6446196,\n",
       " 3: 6322855,\n",
       " 4: 6288429,\n",
       " 5: 6233657,\n",
       " 6: 4562111,\n",
       " 7: 4079723}"
      ]
     },
     "execution_count": 47,
     "metadata": {},
     "output_type": "execute_result"
    }
   ],
   "source": [
    "cdc_dow_births"
   ]
  },
  {
   "cell_type": "markdown",
   "metadata": {},
   "source": [
    "# Max/Min Value Within A Dictionary Function\n",
    "calc_max takes in a dictionary and returns the highest/lowest value from that dictionary"
   ]
  },
  {
   "cell_type": "code",
   "execution_count": 60,
   "metadata": {
    "collapsed": true
   },
   "outputs": [],
   "source": [
    "def calc_max_1(my_dict):\n",
    "    values_list = my_dict.values()\n",
    "    max_value = 0\n",
    "    for value in values_list:\n",
    "        if max_value < value:\n",
    "            max_value = value\n",
    "    return max_value\n",
    "def calc_max_2(my_dict):\n",
    "    return max(my_dict.values())\n",
    "\n",
    "def calc_min(my_dict):\n",
    "    return min(my_dict.values())\n",
    "    "
   ]
  },
  {
   "cell_type": "code",
   "execution_count": 61,
   "metadata": {
    "collapsed": false
   },
   "outputs": [
    {
     "name": "stdout",
     "output_type": "stream",
     "text": [
      "6446196\n",
      "6446196\n",
      "4079723\n"
     ]
    }
   ],
   "source": [
    "print(calc_max_1(cdc_dow_births))\n",
    "print(calc_max_2(cdc_dow_births))\n",
    "print(calc_min(cdc_dow_births))"
   ]
  },
  {
   "cell_type": "markdown",
   "metadata": {},
   "source": [
    "# Function 2\n",
    "Write a function that extracts the same values across years and calculates the differences between consecutive values to show if number of births is increasing or decreasing."
   ]
  },
  {
   "cell_type": "code",
   "execution_count": 81,
   "metadata": {
    "collapsed": false
   },
   "outputs": [
    {
     "name": "stdout",
     "output_type": "stream",
     "text": [
      "this year: 469794 , next year: 453928 , Diff: 15866\n",
      "this year: 453928 , next year: 445770 , Diff: 8158\n",
      "this year: 445770 , next year: 447445 , Diff: -1675\n",
      "this year: 447445 , next year: 474732 , Diff: -27287\n",
      "this year: 474732 , next year: 459580 , Diff: 15152\n",
      "this year: 459580 , next year: 456261 , Diff: 3319\n",
      "this year: 456261 , next year: 450840 , Diff: 5421\n",
      "this year: 450840 , next year: 453776 , Diff: -2936\n",
      "this year: 453776 , next year: 449985 , Diff: 3791\n"
     ]
    },
    {
     "data": {
      "text/plain": [
       "[15866, 8158, -1675, -27287, 15152, 3319, 5421, -2936, 3791]"
      ]
     },
     "execution_count": 81,
     "metadata": {},
     "output_type": "execute_result"
    }
   ],
   "source": [
    "def getTotalYearAndDayDict(my_list, day_of_week):\n",
    "    #year, birthrate, day_of_week\n",
    "    my_dict = {}\n",
    "    YEAR_INDEX = 0\n",
    "    BIRTH_INDEX = 4\n",
    "    DAY_OF_WEEK_INDEX = 3\n",
    "    for val in my_list:\n",
    "        if val[DAY_OF_WEEK_INDEX] == day_of_week:\n",
    "            if val[YEAR_INDEX] in my_dict:\n",
    "                my_dict[val[YEAR_INDEX]] = my_dict[val[YEAR_INDEX]] + val[BIRTH_INDEX]\n",
    "            else:\n",
    "                my_dict[val[YEAR_INDEX]] = val[BIRTH_INDEX]\n",
    "    return my_dict\n",
    "\n",
    "def differencePerYear(my_dict):\n",
    "    birth_per_year = my_dict.values()\n",
    "    bpy_list = []\n",
    "    difference = []\n",
    "    n = 1\n",
    "    for each in birth_per_year:\n",
    "        bpy_list.append(each)\n",
    "    \n",
    "    max = len(bpy_list)\n",
    "    for val in bpy_list:\n",
    "        if n  < max:\n",
    "            diff = val - bpy_list[n]\n",
    "            difference.append(diff)\n",
    "            print(\"this year:\", val, \", next year:\", bpy_list[n], \", Diff:\", diff)\n",
    "            n += 1\n",
    "            \n",
    "    return difference\n",
    "saturday_total = differencePerYear(getTotalYearAndDayDict(cdc_list, 6))\n",
    "saturday_total"
   ]
  },
  {
   "cell_type": "code",
   "execution_count": 79,
   "metadata": {
    "collapsed": false
   },
   "outputs": [
    {
     "data": {
      "text/plain": [
       "{1994: 474732,\n",
       " 1995: 459580,\n",
       " 1996: 456261,\n",
       " 1997: 450840,\n",
       " 1998: 453776,\n",
       " 1999: 449985,\n",
       " 2000: 469794,\n",
       " 2001: 453928,\n",
       " 2002: 445770,\n",
       " 2003: 447445}"
      ]
     },
     "execution_count": 79,
     "metadata": {},
     "output_type": "execute_result"
    }
   ],
   "source": [
    "saturday_total = getTotalYearAndDayDict(cdc_list, 6)\n",
    "saturday_total"
   ]
  },
  {
   "cell_type": "code",
   "execution_count": null,
   "metadata": {
    "collapsed": true
   },
   "outputs": [],
   "source": []
  }
 ],
 "metadata": {
  "anaconda-cloud": {},
  "kernelspec": {
   "display_name": "Python 3",
   "language": "python",
   "name": "python3"
  },
  "language_info": {
   "codemirror_mode": {
    "name": "ipython",
    "version": 3
   },
   "file_extension": ".py",
   "mimetype": "text/x-python",
   "name": "python",
   "nbconvert_exporter": "python",
   "pygments_lexer": "ipython3",
   "version": "3.4.3"
  }
 },
 "nbformat": 4,
 "nbformat_minor": 1
}
